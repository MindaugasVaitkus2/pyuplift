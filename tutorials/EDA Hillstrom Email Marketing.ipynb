{
 "cells": [
  {
   "cell_type": "markdown",
   "metadata": {},
   "source": [
    "# Exploratory Data Analysis of the Hillstrom Email Marketing dataset"
   ]
  },
  {
   "cell_type": "code",
   "execution_count": 1,
   "metadata": {},
   "outputs": [],
   "source": [
    "import pandas as pd\n",
    "import seaborn as sns"
   ]
  },
  {
   "cell_type": "code",
   "execution_count": 2,
   "metadata": {},
   "outputs": [],
   "source": [
    "from pyuplift.datasets import load_hillstrom_email_marketing"
   ]
  },
  {
   "cell_type": "code",
   "execution_count": null,
   "metadata": {},
   "outputs": [],
   "source": []
  },
  {
   "cell_type": "markdown",
   "metadata": {},
   "source": [
    "## Visualization setups"
   ]
  },
  {
   "cell_type": "code",
   "execution_count": 3,
   "metadata": {},
   "outputs": [],
   "source": [
    "sns.set(style=\"whitegrid\")\n",
    "sns.set(rc={'figure.figsize':(15, 5)})"
   ]
  },
  {
   "cell_type": "code",
   "execution_count": null,
   "metadata": {},
   "outputs": [],
   "source": []
  },
  {
   "cell_type": "code",
   "execution_count": 4,
   "metadata": {},
   "outputs": [],
   "source": [
    "data = load_hillstrom_email_marketing(download_if_missing=True, load_raw_data=True)"
   ]
  },
  {
   "cell_type": "code",
   "execution_count": 5,
   "metadata": {},
   "outputs": [
    {
     "data": {
      "text/plain": [
       "dict_keys(['description', 'data', 'feature_names', 'treatment', 'target', 'target_spend', 'target_visit', 'target_conversion'])"
      ]
     },
     "execution_count": 5,
     "metadata": {},
     "output_type": "execute_result"
    }
   ],
   "source": [
    "data.keys()"
   ]
  },
  {
   "cell_type": "code",
   "execution_count": 6,
   "metadata": {},
   "outputs": [
    {
     "data": {
      "text/plain": [
       "'This dataset contains 64,000 customers who last purchased within twelve months. The customers were involved in an e-mail test. 1/3 were randomly chosen to receive an e-mail campaign featuring Mens merchandise. 1/3 were randomly chosen to receive an e-mail campaign featuring Womens merchandise. 1/3 were randomly chosen to not receive an e-mail campaign. During a period of two weeks following the e-mail campaign, results were tracked. Your job is to tell the world if the Mens or Womens e-mail campaign was successful.'"
      ]
     },
     "execution_count": 6,
     "metadata": {},
     "output_type": "execute_result"
    }
   ],
   "source": [
    "data['description']"
   ]
  },
  {
   "cell_type": "code",
   "execution_count": null,
   "metadata": {},
   "outputs": [],
   "source": []
  },
  {
   "cell_type": "markdown",
   "metadata": {},
   "source": [
    "## Utils"
   ]
  },
  {
   "cell_type": "code",
   "execution_count": 7,
   "metadata": {},
   "outputs": [],
   "source": [
    "def generate_feature_repr(values):\n",
    "    feature_names = list(set(values))\n",
    "    feature_names.sort()\n",
    "    feature_values = []\n",
    "    for feature_name in feature_names:\n",
    "        value = values[values == feature_name].shape[0]\n",
    "        feature_values.append(value)\n",
    "    return pd.DataFrame(data={\n",
    "        'Name': feature_names,\n",
    "        'Value': feature_values\n",
    "    })"
   ]
  },
  {
   "cell_type": "code",
   "execution_count": null,
   "metadata": {},
   "outputs": [],
   "source": []
  },
  {
   "cell_type": "markdown",
   "metadata": {},
   "source": [
    "# Inspect the dataset"
   ]
  },
  {
   "cell_type": "markdown",
   "metadata": {},
   "source": [
    "## Data description\n",
    "\n",
    "This dataset contains 64,000 customers who last purchased within twelve months. The customers were involved in an e-mail test.\n",
    "\n",
    " * 1/3 were randomly chosen to receive an e-mail campaign featuring Mens merchandise.\n",
    " * 1/3 were randomly chosen to receive an e-mail campaign featuring Womens merchandise.\n",
    " * 1/3 were randomly chosen to not receive an e-mail campaign.\n",
    "\n",
    "During a period of two weeks following the e-mail campaign, results were tracked."
   ]
  },
  {
   "cell_type": "markdown",
   "metadata": {},
   "source": [
    "## Feature description\n",
    "Historical customer attributes at your disposal include:\n",
    "* Recency: Months since| last purchase.  \n",
    "* History_Segment: Categorization of dollars spent in the past year.\n",
    "* History: Actual dollar value spent in the past year.  \n",
    "* Mens: 1/0 indicator, 1 = customer purchased Mens merchandise in the past year.  \n",
    "* Womens: 1/0 indicator, 1 = customer purchased Womens merchandise in the past year.  \n",
    "* Zip_Code: Classifies zip code as Urban, Suburban, or Rural.  \n",
    "* Newbie: 1/0 indicator, 1 = New customer in the past twelve months.  \n",
    "* Channel: Describes the channels the customer purchased from in the past year.\n",
    "\n",
    "Another variable describes the e-mail campaign the customer received:  \n",
    "* Segment (treatment) - Mens E-Mail, Womens E-Mail, No E-Mail  \n",
    "\n",
    "Finally, we have a series of variables describing activity in the two weeks following delivery of the e-mail campaign:  \n",
    "* Visit: 1/0 indicator, 1 = Customer visited website in the following two weeks.\n",
    "* Conversion: 1/0 indicator, 1 = Customer purchased merchandise in the following two weeks.\n",
    "* Spend: Actual dollars spent in the following two weeks."
   ]
  },
  {
   "cell_type": "code",
   "execution_count": 8,
   "metadata": {},
   "outputs": [],
   "source": [
    "df = pd.DataFrame(data=data['data'], columns=data['feature_names'])"
   ]
  },
  {
   "cell_type": "code",
   "execution_count": 9,
   "metadata": {},
   "outputs": [],
   "source": [
    "df['treatment'] = data['treatment']\n",
    "df['target_spend'] = data['target_spend']\n",
    "df['target_visit'] = data['target_visit']\n",
    "df['target_conversion'] = data['target_conversion']"
   ]
  },
  {
   "cell_type": "code",
   "execution_count": 10,
   "metadata": {},
   "outputs": [
    {
     "data": {
      "text/html": [
       "<div>\n",
       "<style scoped>\n",
       "    .dataframe tbody tr th:only-of-type {\n",
       "        vertical-align: middle;\n",
       "    }\n",
       "\n",
       "    .dataframe tbody tr th {\n",
       "        vertical-align: top;\n",
       "    }\n",
       "\n",
       "    .dataframe thead th {\n",
       "        text-align: right;\n",
       "    }\n",
       "</style>\n",
       "<table border=\"1\" class=\"dataframe\">\n",
       "  <thead>\n",
       "    <tr style=\"text-align: right;\">\n",
       "      <th></th>\n",
       "      <th>recency</th>\n",
       "      <th>history_segment</th>\n",
       "      <th>history</th>\n",
       "      <th>mens</th>\n",
       "      <th>womens</th>\n",
       "      <th>zip_code</th>\n",
       "      <th>newbie</th>\n",
       "      <th>channel</th>\n",
       "      <th>treatment</th>\n",
       "      <th>target_spend</th>\n",
       "      <th>target_visit</th>\n",
       "      <th>target_conversion</th>\n",
       "    </tr>\n",
       "  </thead>\n",
       "  <tbody>\n",
       "    <tr>\n",
       "      <th>0</th>\n",
       "      <td>10</td>\n",
       "      <td>2) $100 - $200</td>\n",
       "      <td>142.44</td>\n",
       "      <td>1</td>\n",
       "      <td>0</td>\n",
       "      <td>Surburban</td>\n",
       "      <td>0</td>\n",
       "      <td>Phone</td>\n",
       "      <td>Womens E-Mail</td>\n",
       "      <td>0.0</td>\n",
       "      <td>0</td>\n",
       "      <td>0</td>\n",
       "    </tr>\n",
       "    <tr>\n",
       "      <th>1</th>\n",
       "      <td>6</td>\n",
       "      <td>3) $200 - $350</td>\n",
       "      <td>329.08</td>\n",
       "      <td>1</td>\n",
       "      <td>1</td>\n",
       "      <td>Rural</td>\n",
       "      <td>1</td>\n",
       "      <td>Web</td>\n",
       "      <td>No E-Mail</td>\n",
       "      <td>0.0</td>\n",
       "      <td>0</td>\n",
       "      <td>0</td>\n",
       "    </tr>\n",
       "    <tr>\n",
       "      <th>2</th>\n",
       "      <td>7</td>\n",
       "      <td>2) $100 - $200</td>\n",
       "      <td>180.65</td>\n",
       "      <td>0</td>\n",
       "      <td>1</td>\n",
       "      <td>Surburban</td>\n",
       "      <td>1</td>\n",
       "      <td>Web</td>\n",
       "      <td>Womens E-Mail</td>\n",
       "      <td>0.0</td>\n",
       "      <td>0</td>\n",
       "      <td>0</td>\n",
       "    </tr>\n",
       "    <tr>\n",
       "      <th>3</th>\n",
       "      <td>9</td>\n",
       "      <td>5) $500 - $750</td>\n",
       "      <td>675.83</td>\n",
       "      <td>1</td>\n",
       "      <td>0</td>\n",
       "      <td>Rural</td>\n",
       "      <td>1</td>\n",
       "      <td>Web</td>\n",
       "      <td>Mens E-Mail</td>\n",
       "      <td>0.0</td>\n",
       "      <td>0</td>\n",
       "      <td>0</td>\n",
       "    </tr>\n",
       "    <tr>\n",
       "      <th>4</th>\n",
       "      <td>2</td>\n",
       "      <td>1) $0 - $100</td>\n",
       "      <td>45.34</td>\n",
       "      <td>1</td>\n",
       "      <td>0</td>\n",
       "      <td>Urban</td>\n",
       "      <td>0</td>\n",
       "      <td>Web</td>\n",
       "      <td>Womens E-Mail</td>\n",
       "      <td>0.0</td>\n",
       "      <td>0</td>\n",
       "      <td>0</td>\n",
       "    </tr>\n",
       "  </tbody>\n",
       "</table>\n",
       "</div>"
      ],
      "text/plain": [
       "  recency history_segment history mens womens   zip_code newbie channel  \\\n",
       "0      10  2) $100 - $200  142.44    1      0  Surburban      0   Phone   \n",
       "1       6  3) $200 - $350  329.08    1      1      Rural      1     Web   \n",
       "2       7  2) $100 - $200  180.65    0      1  Surburban      1     Web   \n",
       "3       9  5) $500 - $750  675.83    1      0      Rural      1     Web   \n",
       "4       2    1) $0 - $100   45.34    1      0      Urban      0     Web   \n",
       "\n",
       "       treatment  target_spend  target_visit  target_conversion  \n",
       "0  Womens E-Mail           0.0             0                  0  \n",
       "1      No E-Mail           0.0             0                  0  \n",
       "2  Womens E-Mail           0.0             0                  0  \n",
       "3    Mens E-Mail           0.0             0                  0  \n",
       "4  Womens E-Mail           0.0             0                  0  "
      ]
     },
     "execution_count": 10,
     "metadata": {},
     "output_type": "execute_result"
    }
   ],
   "source": [
    "df.head()"
   ]
  },
  {
   "cell_type": "code",
   "execution_count": 11,
   "metadata": {},
   "outputs": [
    {
     "name": "stdout",
     "output_type": "stream",
     "text": [
      "<class 'pandas.core.frame.DataFrame'>\n",
      "RangeIndex: 64000 entries, 0 to 63999\n",
      "Data columns (total 12 columns):\n",
      "recency              64000 non-null object\n",
      "history_segment      64000 non-null object\n",
      "history              64000 non-null object\n",
      "mens                 64000 non-null object\n",
      "womens               64000 non-null object\n",
      "zip_code             64000 non-null object\n",
      "newbie               64000 non-null object\n",
      "channel              64000 non-null object\n",
      "treatment            64000 non-null object\n",
      "target_spend         64000 non-null float64\n",
      "target_visit         64000 non-null int64\n",
      "target_conversion    64000 non-null int64\n",
      "dtypes: float64(1), int64(2), object(9)\n",
      "memory usage: 5.9+ MB\n"
     ]
    }
   ],
   "source": [
    "df.info()"
   ]
  },
  {
   "cell_type": "code",
   "execution_count": null,
   "metadata": {},
   "outputs": [],
   "source": []
  },
  {
   "cell_type": "markdown",
   "metadata": {},
   "source": [
    "## Inspect the treatment variable"
   ]
  },
  {
   "cell_type": "code",
   "execution_count": 12,
   "metadata": {},
   "outputs": [
    {
     "data": {
      "text/plain": [
       "0    Womens E-Mail\n",
       "1        No E-Mail\n",
       "2    Womens E-Mail\n",
       "3      Mens E-Mail\n",
       "4    Womens E-Mail\n",
       "Name: treatment, dtype: object"
      ]
     },
     "execution_count": 12,
     "metadata": {},
     "output_type": "execute_result"
    }
   ],
   "source": [
    "df['treatment'].head()"
   ]
  },
  {
   "cell_type": "markdown",
   "metadata": {},
   "source": [
    "### The treatment variable contains 3 type of treatment:\n",
    "* **No E-Mail** - User didn't get any e-mail  \n",
    "* **Mens E-Mail** - User got an e-mail featuring mens merchandise  \n",
    "* **Womens E-Mail** - User got an e-mail featuring womens merchandise  "
   ]
  },
  {
   "cell_type": "code",
   "execution_count": 13,
   "metadata": {},
   "outputs": [],
   "source": [
    "df_repr = generate_feature_repr(df['treatment'])"
   ]
  },
  {
   "cell_type": "code",
   "execution_count": 14,
   "metadata": {
    "scrolled": true
   },
   "outputs": [
    {
     "data": {
      "image/png": "[encoded data removed]",
      "text/plain": [
       "<Figure size 1080x360 with 1 Axes>"
      ]
     },
     "metadata": {},
     "output_type": "display_data"
    }
   ],
   "source": [
    "ax = sns.barplot(x='Name', y='Value', data=df_repr)\n",
    "ax.set(\n",
    "    xlabel='',\n",
    "    ylabel='Number samples', \n",
    "    title='Number samples for each treatment'\n",
    ");"
   ]
  },
  {
   "cell_type": "code",
   "execution_count": null,
   "metadata": {},
   "outputs": [],
   "source": []
  },
  {
   "cell_type": "markdown",
   "metadata": {},
   "source": [
    "# Inspect the target variable"
   ]
  },
  {
   "cell_type": "markdown",
   "metadata": {},
   "source": [
    "## Target variable - spend\n",
    "Actual dollars spent in the following two weeks"
   ]
  },
  {
   "cell_type": "code",
   "execution_count": 15,
   "metadata": {},
   "outputs": [
    {
     "name": "stdout",
     "output_type": "stream",
     "text": [
      "0.903125% - non zero values\n"
     ]
    }
   ],
   "source": [
    "target = df['target_spend'] \n",
    "non_zero = target[target != 0].shape[0]\n",
    "print(\"{}% - non zero values\".format(100 * non_zero / target.shape[0]))"
   ]
  },
  {
   "cell_type": "code",
   "execution_count": 16,
   "metadata": {},
   "outputs": [
    {
     "data": {
      "image/png": "[encoded data removed]",
      "text/plain": [
       "<Figure size 1080x360 with 1 Axes>"
      ]
     },
     "metadata": {},
     "output_type": "display_data"
    }
   ],
   "source": [
    "ax = sns.distplot(df['target_spend'])\n",
    "ax.set(xlabel='Spend', ylabel='');"
   ]
  },
  {
   "cell_type": "markdown",
   "metadata": {},
   "source": [
    "## Target variable - visit\n",
    "1/0 indicator, 1 = Customer visited website in the following two weeks"
   ]
  },
  {
   "cell_type": "code",
   "execution_count": 17,
   "metadata": {},
   "outputs": [],
   "source": [
    "df_repr = generate_feature_repr(df['target_visit'].values)\n",
    "df_repr['Name'] = df_repr['Name'].apply(lambda x: 'Customer visited the website' if x else \"Customer doesn't visited the website\")"
   ]
  },
  {
   "cell_type": "code",
   "execution_count": 18,
   "metadata": {},
   "outputs": [
    {
     "data": {
      "image/png": "[encoded data removed]",
      "text/plain": [
       "<Figure size 1080x360 with 1 Axes>"
      ]
     },
     "metadata": {},
     "output_type": "display_data"
    }
   ],
   "source": [
    "ax = sns.barplot(x='Name', y='Value', data=df_repr)\n",
    "ax.set(xlabel='', ylabel='');"
   ]
  },
  {
   "cell_type": "markdown",
   "metadata": {},
   "source": [
    "## Target variable - conversion:\n",
    "1/0 indicator, 1 = Customer purchased merchandise in the following two weeks"
   ]
  },
  {
   "cell_type": "code",
   "execution_count": 19,
   "metadata": {},
   "outputs": [],
   "source": [
    "df_repr = generate_feature_repr(df['target_conversion'].values)\n",
    "df_repr['Name'] = df_repr['Name'].apply(lambda x: 'Customer purchased merchandise' if x else \"Customer doesn't purchased merchandise\")"
   ]
  },
  {
   "cell_type": "code",
   "execution_count": 20,
   "metadata": {},
   "outputs": [
    {
     "data": {
      "image/png": "[encoded data removed]",
      "text/plain": [
       "<Figure size 1080x360 with 1 Axes>"
      ]
     },
     "metadata": {},
     "output_type": "display_data"
    }
   ],
   "source": [
    "ax = sns.barplot(x='Name', y='Value', data=df_repr)\n",
    "ax.set(xlabel='', ylabel='');"
   ]
  },
  {
   "cell_type": "markdown",
   "metadata": {},
   "source": [
    "# Inspect features"
   ]
  },
  {
   "cell_type": "markdown",
   "metadata": {},
   "source": [
    "## Feature: zip_code\n",
    "Classifies zip code as Urban, Suburban, or Rural"
   ]
  },
  {
   "cell_type": "code",
   "execution_count": 21,
   "metadata": {},
   "outputs": [],
   "source": [
    "df_repr = generate_feature_repr(df['zip_code'].values)"
   ]
  },
  {
   "cell_type": "code",
   "execution_count": 22,
   "metadata": {},
   "outputs": [
    {
     "data": {
      "image/png": "[encoded data removed]",
      "text/plain": [
       "<Figure size 1080x360 with 1 Axes>"
      ]
     },
     "metadata": {},
     "output_type": "display_data"
    }
   ],
   "source": [
    "ax = sns.barplot(x='Name', y='Value', data=df_repr)\n",
    "ax.set(xlabel='', ylabel='');"
   ]
  },
  {
   "cell_type": "markdown",
   "metadata": {},
   "source": [
    "## Feature: channel\n",
    "Describes the channels the customer purchased from in the past year"
   ]
  },
  {
   "cell_type": "code",
   "execution_count": 23,
   "metadata": {},
   "outputs": [],
   "source": [
    "df_repr = generate_feature_repr(df['channel'].values)"
   ]
  },
  {
   "cell_type": "code",
   "execution_count": 24,
   "metadata": {},
   "outputs": [
    {
     "data": {
      "image/png": "[encoded data removed]",
      "text/plain": [
       "<Figure size 1080x360 with 1 Axes>"
      ]
     },
     "metadata": {},
     "output_type": "display_data"
    }
   ],
   "source": [
    "ax = sns.barplot(x='Name', y='Value', data=df_repr)\n",
    "ax.set(xlabel='', ylabel='');"
   ]
  },
  {
   "cell_type": "markdown",
   "metadata": {},
   "source": [
    "## Feature: recency\n",
    "Months since last purchase"
   ]
  },
  {
   "cell_type": "code",
   "execution_count": 25,
   "metadata": {},
   "outputs": [],
   "source": [
    "df_repr = generate_feature_repr(df['recency'].values)"
   ]
  },
  {
   "cell_type": "code",
   "execution_count": 26,
   "metadata": {},
   "outputs": [
    {
     "data": {
      "image/png": "[encoded data removed]",
      "text/plain": [
       "<Figure size 1080x360 with 1 Axes>"
      ]
     },
     "metadata": {},
     "output_type": "display_data"
    }
   ],
   "source": [
    "ax = sns.barplot(x='Name', y='Value', data=df_repr)\n",
    "ax.set(xlabel='Months since last purchase', ylabel='');"
   ]
  },
  {
   "cell_type": "markdown",
   "metadata": {},
   "source": [
    "## Feature: mens\n",
    "1/0 indicator, 1 = customer purchased mens merchandise in the past year"
   ]
  },
  {
   "cell_type": "code",
   "execution_count": 27,
   "metadata": {},
   "outputs": [],
   "source": [
    "df_repr = generate_feature_repr(df['mens'].values)\n",
    "df_repr['Name'] = df_repr['Name'].apply(lambda x: 'Customer purchased mens merchandise' if x else \"Customer doesn't purchased mens merchandise\")"
   ]
  },
  {
   "cell_type": "code",
   "execution_count": 28,
   "metadata": {},
   "outputs": [
    {
     "data": {
      "image/png": "[encoded data removed]",
      "text/plain": [
       "<Figure size 1080x360 with 1 Axes>"
      ]
     },
     "metadata": {},
     "output_type": "display_data"
    }
   ],
   "source": [
    "ax = sns.barplot(x='Name', y='Value', data=df_repr)\n",
    "ax.set(xlabel='', ylabel='');"
   ]
  },
  {
   "cell_type": "markdown",
   "metadata": {},
   "source": [
    "## Feature: womens\n",
    "1/0 indicator, 1 = customer purchased womens merchandise in the past year"
   ]
  },
  {
   "cell_type": "code",
   "execution_count": 29,
   "metadata": {},
   "outputs": [],
   "source": [
    "df_repr = generate_feature_repr(df['womens'].values)\n",
    "df_repr['Name'] = df_repr['Name'].apply(lambda x: 'Customer purchased womens merchandise' if x else \"Customer doesn't purchased womens merchandise\")"
   ]
  },
  {
   "cell_type": "code",
   "execution_count": 30,
   "metadata": {},
   "outputs": [
    {
     "data": {
      "image/png": "[encoded data removed]",
      "text/plain": [
       "<Figure size 1080x360 with 1 Axes>"
      ]
     },
     "metadata": {},
     "output_type": "display_data"
    }
   ],
   "source": [
    "ax = sns.barplot(x='Name', y='Value', data=df_repr)\n",
    "ax.set(xlabel='', ylabel='');"
   ]
  },
  {
   "cell_type": "markdown",
   "metadata": {},
   "source": [
    "## Feature: newbie\n",
    "1/0 indicator, 1 = New customer in the past twelve months"
   ]
  },
  {
   "cell_type": "code",
   "execution_count": 31,
   "metadata": {},
   "outputs": [],
   "source": [
    "df_repr = generate_feature_repr(df['newbie'].values)\n",
    "df_repr['Name'] = df_repr['Name'].apply(lambda x: 'Newbie' if x else 'Not newbie')"
   ]
  },
  {
   "cell_type": "code",
   "execution_count": 32,
   "metadata": {},
   "outputs": [
    {
     "data": {
      "image/png": "[encoded data removed]",
      "text/plain": [
       "<Figure size 1080x360 with 1 Axes>"
      ]
     },
     "metadata": {},
     "output_type": "display_data"
    }
   ],
   "source": [
    "ax = sns.barplot(x='Name', y='Value', data=df_repr)\n",
    "ax.set(xlabel='', ylabel='');"
   ]
  },
  {
   "cell_type": "markdown",
   "metadata": {},
   "source": [
    "## Feature: history\n",
    "Actual dollar value spent in the past year"
   ]
  },
  {
   "cell_type": "code",
   "execution_count": 33,
   "metadata": {},
   "outputs": [
    {
     "data": {
      "image/png": "[encoded data removed]",
      "text/plain": [
       "<Figure size 1080x360 with 1 Axes>"
      ]
     },
     "metadata": {},
     "output_type": "display_data"
    }
   ],
   "source": [
    "ax = sns.distplot(df['history'].values)\n",
    "ax.set(\n",
    "    xlabel='Actual dollar value spent in the past year', \n",
    "    ylabel=''\n",
    ");"
   ]
  },
  {
   "cell_type": "markdown",
   "metadata": {},
   "source": [
    "## Feature: history_segment\n",
    "Categorization of dollars spent in the past year"
   ]
  },
  {
   "cell_type": "code",
   "execution_count": 34,
   "metadata": {},
   "outputs": [],
   "source": [
    "df_repr = generate_feature_repr(df['history_segment'].values)"
   ]
  },
  {
   "cell_type": "code",
   "execution_count": 35,
   "metadata": {},
   "outputs": [
    {
     "data": {
      "image/png": "[encoded data removed]",
      "text/plain": [
       "<Figure size 1080x360 with 1 Axes>"
      ]
     },
     "metadata": {},
     "output_type": "display_data"
    }
   ],
   "source": [
    "ax = sns.barplot(x='Name', y='Value', data=df_repr)\n",
    "ax.set(xlabel='', ylabel='');"
   ]
  },
  {
   "cell_type": "code",
   "execution_count": null,
   "metadata": {},
   "outputs": [],
   "source": []
  }
 ],
 "metadata": {
  "kernelspec": {
   "display_name": "Python 3",
   "language": "python",
   "name": "python3"
  },
  "language_info": {
   "codemirror_mode": {
    "name": "ipython",
    "version": 3
   },
   "file_extension": ".py",
   "mimetype": "text/x-python",
   "name": "python",
   "nbconvert_exporter": "python",
   "pygments_lexer": "ipython3",
   "version": "3.6.8"
  }
 },
 "nbformat": 4,
 "nbformat_minor": 2
}
