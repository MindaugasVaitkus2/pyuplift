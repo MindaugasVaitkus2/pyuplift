{
 "cells": [
  {
   "cell_type": "markdown",
   "metadata": {},
   "source": [
    "## Getting started tutorial"
   ]
  },
  {
   "cell_type": "markdown",
   "metadata": {},
   "source": [
    "### ! This tutorial uses the Hillstrom Email Marketing dataset. More information about the dataset you can find on the [official site](http://minethatdata.com/Stochastic_Solutions_E-Mail_Challenge_2008.04.30.pdf)"
   ]
  },
  {
   "cell_type": "code",
   "execution_count": null,
   "metadata": {},
   "outputs": [],
   "source": []
  },
  {
   "cell_type": "code",
   "execution_count": 1,
   "metadata": {},
   "outputs": [],
   "source": [
    "from pyuplift.variable_selection import Econometric\n",
    "from pyuplift.datasets import load_hillstrom_email_marketing\n",
    "from pyuplift.model_selection import train_test_split"
   ]
  },
  {
   "cell_type": "code",
   "execution_count": null,
   "metadata": {},
   "outputs": [],
   "source": []
  },
  {
   "cell_type": "markdown",
   "metadata": {},
   "source": [
    "### Load data from the Hillstrom Email Marketing dataset\n",
    "Parameter `load_raw_data` allowed you to load raw data (original dataset) or preprocessed data (ready to go)."
   ]
  },
  {
   "cell_type": "code",
   "execution_count": 2,
   "metadata": {},
   "outputs": [],
   "source": [
    "data = load_hillstrom_email_marketing(load_raw_data=False)"
   ]
  },
  {
   "cell_type": "code",
   "execution_count": 3,
   "metadata": {},
   "outputs": [
    {
     "data": {
      "text/plain": [
       "{'description': 'This dataset contains 64,000 customers who last purchased within twelve months. The customers were involved in an e-mail test. 1/3 were randomly chosen to receive an e-mail campaign featuring Mens merchandise. 1/3 were randomly chosen to receive an e-mail campaign featuring Womens merchandise. 1/3 were randomly chosen to not receive an e-mail campaign. During a period of two weeks following the e-mail campaign, results were tracked. Your job is to tell the world if the Mens or Womens e-mail campaign was successful.',\n",
       " 'data': array([[ 10.  , 142.44,   1.  , ...,   0.  ,   1.  ,   0.  ],\n",
       "        [  6.  , 329.08,   1.  , ...,   0.  ,   0.  ,   1.  ],\n",
       "        [  7.  , 180.65,   0.  , ...,   0.  ,   0.  ,   1.  ],\n",
       "        ...,\n",
       "        [  6.  ,  29.99,   1.  , ...,   0.  ,   1.  ,   0.  ],\n",
       "        [  1.  , 552.94,   1.  , ...,   1.  ,   0.  ,   0.  ],\n",
       "        [  1.  , 472.82,   0.  , ...,   0.  ,   0.  ,   1.  ]]),\n",
       " 'feature_names': array(['recency', 'history', 'mens', 'womens', 'newbie', 'zip_code_Rural',\n",
       "        'zip_code_Surburban', 'zip_code_Urban',\n",
       "        'history_segment_$0 - $100', 'history_segment_$1,000 +',\n",
       "        'history_segment_$100 - $200', 'history_segment_$200 - $350',\n",
       "        'history_segment_$350 - $500', 'history_segment_$500 - $750',\n",
       "        'history_segment_$750 - $1,000', 'channel_Multichannel',\n",
       "        'channel_Phone', 'channel_Web'], dtype='<U29'),\n",
       " 'treatment': array([2, 0, 2, ..., 1, 2, 1], dtype=int64),\n",
       " 'target': array([0., 0., 0., ..., 0., 0., 0.]),\n",
       " 'target_spend': array([0., 0., 0., ..., 0., 0., 0.]),\n",
       " 'target_visit': array([0, 0, 0, ..., 0, 0, 0], dtype=int64),\n",
       " 'target_conversion': array([0, 0, 0, ..., 0, 0, 0], dtype=int64)}"
      ]
     },
     "execution_count": 3,
     "metadata": {},
     "output_type": "execute_result"
    }
   ],
   "source": [
    "data"
   ]
  },
  {
   "cell_type": "code",
   "execution_count": null,
   "metadata": {},
   "outputs": [],
   "source": []
  },
  {
   "cell_type": "markdown",
   "metadata": {},
   "source": [
    "### Hillstrom dataset has 3 type of the treatment:\n",
    "* 0, No E-Mail\n",
    "* 1, Mens E-Mail\n",
    "* 2, Womens E-Mail"
   ]
  },
  {
   "cell_type": "markdown",
   "metadata": {},
   "source": [
    "### Let's take two of them: \n",
    "* No E-mail (no treatment) \n",
    "* Mens E-mail (treatment)"
   ]
  },
  {
   "cell_type": "code",
   "execution_count": 4,
   "metadata": {},
   "outputs": [],
   "source": [
    "ex_womens_indexes = data['treatment'] != 2"
   ]
  },
  {
   "cell_type": "code",
   "execution_count": 5,
   "metadata": {},
   "outputs": [],
   "source": [
    "X = data['data'][ex_womens_indexes]\n",
    "y = data['target'][ex_womens_indexes]\n",
    "t = data['treatment'][ex_womens_indexes]"
   ]
  },
  {
   "cell_type": "code",
   "execution_count": null,
   "metadata": {},
   "outputs": [],
   "source": []
  },
  {
   "cell_type": "markdown",
   "metadata": {},
   "source": [
    "### Random split data on train (70%) and test (30%)"
   ]
  },
  {
   "cell_type": "code",
   "execution_count": 6,
   "metadata": {},
   "outputs": [],
   "source": [
    "X_train, X_test, y_train, y_test, t_train, t_test = train_test_split(X, y, t, train_share=0.7, random_state=123)"
   ]
  },
  {
   "cell_type": "markdown",
   "metadata": {},
   "source": [
    "### Create the uplift model with default parameters"
   ]
  },
  {
   "cell_type": "code",
   "execution_count": 7,
   "metadata": {},
   "outputs": [],
   "source": [
    "model = Econometric()"
   ]
  },
  {
   "cell_type": "markdown",
   "metadata": {},
   "source": [
    "### Fit the model"
   ]
  },
  {
   "cell_type": "code",
   "execution_count": 8,
   "metadata": {},
   "outputs": [
    {
     "data": {
      "text/plain": [
       "<pyuplift.variable_selection.econometric.Econometric at 0x214f0be0>"
      ]
     },
     "execution_count": 8,
     "metadata": {},
     "output_type": "execute_result"
    }
   ],
   "source": [
    "model.fit(X_train, y_train, t_train)"
   ]
  },
  {
   "cell_type": "markdown",
   "metadata": {},
   "source": [
    "### Predict uplift for the test dataset"
   ]
  },
  {
   "cell_type": "code",
   "execution_count": 9,
   "metadata": {},
   "outputs": [],
   "source": [
    "uplift = model.predict(X_test)"
   ]
  },
  {
   "cell_type": "code",
   "execution_count": 10,
   "metadata": {},
   "outputs": [
    {
     "data": {
      "text/plain": [
       "array([1.0615553 , 0.41391224, 0.26028002, 2.09681851, 0.42625385,\n",
       "       1.94064929, 2.50369232, 0.52225684, 0.17712341, 0.91999936,\n",
       "       0.54780214, 0.27353447, 0.74778451, 0.77815588, 0.89413281,\n",
       "       0.50344916, 0.5541491 , 1.19713328, 1.62508446, 2.72094539])"
      ]
     },
     "execution_count": 10,
     "metadata": {},
     "output_type": "execute_result"
    }
   ],
   "source": [
    "uplift[:20]"
   ]
  },
  {
   "cell_type": "code",
   "execution_count": null,
   "metadata": {},
   "outputs": [],
   "source": []
  }
 ],
 "metadata": {
  "kernelspec": {
   "display_name": "Python 3",
   "language": "python",
   "name": "python3"
  },
  "language_info": {
   "codemirror_mode": {
    "name": "ipython",
    "version": 3
   },
   "file_extension": ".py",
   "mimetype": "text/x-python",
   "name": "python",
   "nbconvert_exporter": "python",
   "pygments_lexer": "ipython3",
   "version": "3.6.4"
  }
 },
 "nbformat": 4,
 "nbformat_minor": 2
}
