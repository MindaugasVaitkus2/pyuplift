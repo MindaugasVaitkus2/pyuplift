{
 "cells": [
  {
   "cell_type": "code",
   "execution_count": 1,
   "metadata": {},
   "outputs": [],
   "source": [
    "import numpy as np\n",
    "import pandas as pd\n",
    "import seaborn as sns\n",
    "\n",
    "from statistics import mean\n",
    "from random import sample\n",
    "\n",
    "from sklearn import preprocessing\n",
    "from sklearn.linear_model import LinearRegression, LogisticRegression\n",
    "from sklearn.ensemble import RandomForestRegressor, RandomForestClassifier\n",
    "\n",
    "from pyuplift.variable_selection import *\n",
    "from pyuplift.transformation import *\n",
    "from pyuplift.model_selection import treatment_cross_val_score\n",
    "from pyuplift.datasets import load_hillstrom_email_marketing\n",
    "\n",
    "import warnings\n",
    "warnings.filterwarnings('ignore')"
   ]
  },
  {
   "cell_type": "code",
   "execution_count": 2,
   "metadata": {
    "scrolled": true
   },
   "outputs": [
    {
     "data": {
      "text/html": [
       "<script type=\"text/javascript\">window.PlotlyConfig = {MathJaxConfig: 'local'};</script><script type=\"text/javascript\">if (window.MathJax) {MathJax.Hub.Config({SVG: {font: \"STIX-Web\"}});}</script><script>requirejs.config({paths: { 'plotly': ['https://cdn.plot.ly/plotly-latest.min']},});if(!window._Plotly) {require(['plotly'],function(plotly) {window._Plotly=plotly;});}</script>"
      ]
     },
     "metadata": {},
     "output_type": "execute_result"
    },
    {
     "data": {
      "text/html": [
       "<script type=\"text/javascript\">window.PlotlyConfig = {MathJaxConfig: 'local'};</script><script type=\"text/javascript\">if (window.MathJax) {MathJax.Hub.Config({SVG: {font: \"STIX-Web\"}});}</script><script>requirejs.config({paths: { 'plotly': ['https://cdn.plot.ly/plotly-latest.min']},});if(!window._Plotly) {require(['plotly'],function(plotly) {window._Plotly=plotly;});}</script>"
      ]
     },
     "metadata": {},
     "output_type": "execute_result"
    },
    {
     "data": {
      "text/html": [
       "<script type=\"text/javascript\">window.PlotlyConfig = {MathJaxConfig: 'local'};</script><script type=\"text/javascript\">if (window.MathJax) {MathJax.Hub.Config({SVG: {font: \"STIX-Web\"}});}</script><script>requirejs.config({paths: { 'plotly': ['https://cdn.plot.ly/plotly-latest.min']},});if(!window._Plotly) {require(['plotly'],function(plotly) {window._Plotly=plotly;});}</script>"
      ]
     },
     "metadata": {},
     "output_type": "execute_result"
    }
   ],
   "source": [
    "# plotly\n",
    "import plotly.plotly as py\n",
    "import plotly.graph_objs as go\n",
    "from plotly.offline import iplot\n",
    " \n",
    "import cufflinks\n",
    "cufflinks.go_offline()\n",
    "cufflinks.set_config_file(world_readable=True, theme='pearl', offline=True)"
   ]
  },
  {
   "cell_type": "code",
   "execution_count": null,
   "metadata": {},
   "outputs": [],
   "source": []
  },
  {
   "cell_type": "code",
   "execution_count": 3,
   "metadata": {},
   "outputs": [],
   "source": [
    "df = load_hillstrom_email_marketing(load_raw_data=False)"
   ]
  },
  {
   "cell_type": "code",
   "execution_count": 4,
   "metadata": {},
   "outputs": [
    {
     "data": {
      "text/plain": [
       "{'DESCR': 'This dataset contains 64,000 customers who last purchased within twelve months. The customers were involved in an e-mail test. 1/3 were randomly chosen to receive an e-mail campaign featuring Mens merchandise. 1/3 were randomly chosen to receive an e-mail campaign featuring Womens merchandise. 1/3 were randomly chosen to not receive an e-mail campaign. During a period of two weeks following the e-mail campaign, results were tracked. Your job is to tell the world if the Mens or Womens e-mail campaign was successful.',\n",
       " 'data': array([[ 10.  , 142.44,   1.  , ...,   0.  ,   1.  ,   0.  ],\n",
       "        [  6.  , 329.08,   1.  , ...,   0.  ,   0.  ,   1.  ],\n",
       "        [  7.  , 180.65,   0.  , ...,   0.  ,   0.  ,   1.  ],\n",
       "        ...,\n",
       "        [  6.  ,  29.99,   1.  , ...,   0.  ,   1.  ,   0.  ],\n",
       "        [  1.  , 552.94,   1.  , ...,   1.  ,   0.  ,   0.  ],\n",
       "        [  1.  , 472.82,   0.  , ...,   0.  ,   0.  ,   1.  ]]),\n",
       " 'feature_names': ['recency',\n",
       "  'history',\n",
       "  'mens',\n",
       "  'womens',\n",
       "  'newbie',\n",
       "  'zip_code_Rural',\n",
       "  'zip_code_Surburban',\n",
       "  'zip_code_Urban',\n",
       "  'history_segment_$0 - $100',\n",
       "  'history_segment_$1,000 +',\n",
       "  'history_segment_$100 - $200',\n",
       "  'history_segment_$200 - $350',\n",
       "  'history_segment_$350 - $500',\n",
       "  'history_segment_$500 - $750',\n",
       "  'history_segment_$750 - $1,000',\n",
       "  'channel_Multichannel',\n",
       "  'channel_Phone',\n",
       "  'channel_Web'],\n",
       " 'treatment': array([2, 0, 2, ..., 1, 2, 1], dtype=int64),\n",
       " 'target': array([0., 0., 0., ..., 0., 0., 0.]),\n",
       " 'target_spend': array([0., 0., 0., ..., 0., 0., 0.]),\n",
       " 'target_visit': array([0, 0, 0, ..., 0, 0, 0], dtype=int64),\n",
       " 'target_conversion': array([0, 0, 0, ..., 0, 0, 0], dtype=int64)}"
      ]
     },
     "execution_count": 4,
     "metadata": {},
     "output_type": "execute_result"
    }
   ],
   "source": [
    "df"
   ]
  },
  {
   "cell_type": "code",
   "execution_count": null,
   "metadata": {},
   "outputs": [],
   "source": []
  },
  {
   "cell_type": "markdown",
   "metadata": {},
   "source": [
    "## Treatment\n",
    "* 0, No E-Mail\n",
    "* 1, Mens E-Mail  \n",
    "* 2, Womens E-Mail"
   ]
  },
  {
   "cell_type": "code",
   "execution_count": 5,
   "metadata": {},
   "outputs": [],
   "source": [
    "ex_mens_indexes = df['treatment'] != 1\n",
    "ex_womens_indexes = df['treatment'] != 2"
   ]
  },
  {
   "cell_type": "code",
   "execution_count": 6,
   "metadata": {},
   "outputs": [],
   "source": [
    "X_ex_mens = df['data'][ex_mens_indexes]\n",
    "X_ex_womens = df['data'][ex_womens_indexes]\n",
    "\n",
    "y_ex_mens = df['target'][ex_mens_indexes]\n",
    "y_ex_womens = df['target'][ex_womens_indexes]\n",
    "\n",
    "t_ex_mens = df['treatment'][ex_mens_indexes]\n",
    "t_ex_womens = df['treatment'][ex_womens_indexes]"
   ]
  },
  {
   "cell_type": "code",
   "execution_count": 7,
   "metadata": {},
   "outputs": [],
   "source": [
    "cv = 5\n",
    "seeds = [111, 222, 333, 444, 555]"
   ]
  },
  {
   "cell_type": "code",
   "execution_count": 8,
   "metadata": {},
   "outputs": [],
   "source": [
    "models = {\n",
    "    'Econometric (Linear regression)': Econometric(LinearRegression(n_jobs=-1)),\n",
    "    'Econometric (Random forest)': Econometric(RandomForestRegressor(n_jobs=-1)),\n",
    "    \n",
    "    'Two Model (Linear regression)': TwoModel(LinearRegression(n_jobs=-1), LinearRegression(n_jobs=-1)),\n",
    "    'Two Model (Random forest)': TwoModel(RandomForestRegressor(n_jobs=-1), RandomForestRegressor(n_jobs=-1)),\n",
    "    \n",
    "    'Dummy (Linear regression)': Dummy(LinearRegression(n_jobs=-1)),\n",
    "    'Dummy (Random forest)': Dummy(RandomForestRegressor(n_jobs=-1)),\n",
    "\n",
    "    'Lai (Logistic Regression)': Lai(LogisticRegression(n_jobs=-1)),\n",
    "    'Lai (Random forest)': Lai(RandomForestClassifier(n_jobs=-1)),\n",
    "    \n",
    "    'WeightedLai (Logistic regression)': WeightedLai(LogisticRegression(n_jobs=-1)),\n",
    "    'WeightedLai (Random forest)': WeightedLai(RandomForestClassifier(n_jobs=-1)),\n",
    "\n",
    "    'Kane (Logistic regression)': Kane(LogisticRegression(n_jobs=-1)),\n",
    "    'Kane (Random forest)': Kane(RandomForestClassifier(n_jobs=-1)),\n",
    "    \n",
    "    'GeneralizedKane (Logistic regression)': GeneralizedKane(LogisticRegression(n_jobs=-1)),\n",
    "    'GeneralizedKane (Random forest)': GeneralizedKane(RandomForestClassifier(n_jobs=-1)),\n",
    "\n",
    "    'Reflective (Logistic regression)': Reflective(LogisticRegression(n_jobs=-1)),\n",
    "    'Reflective (Random forest)': Reflective(RandomForestClassifier(n_jobs=-1)),\n",
    "    \n",
    "    'Pessimistic (Logistic regression)': Pessimistic(LogisticRegression(n_jobs=-1)),\n",
    "    'Pessimistic (Random forest)': Pessimistic(RandomForestClassifier(n_jobs=-1)),\n",
    "    \n",
    "    'Jaskowski (Logistic regression)': Jaskowski(LogisticRegression(n_jobs=-1)),\n",
    "    'Jaskowski (Random forest)': Jaskowski(RandomForestClassifier(n_jobs=-1)),\n",
    "}"
   ]
  },
  {
   "cell_type": "code",
   "execution_count": null,
   "metadata": {},
   "outputs": [],
   "source": []
  },
  {
   "cell_type": "markdown",
   "metadata": {},
   "source": [
    "## No E-Mail vs Mens E-Mail"
   ]
  },
  {
   "cell_type": "code",
   "execution_count": 9,
   "metadata": {},
   "outputs": [
    {
     "name": "stdout",
     "output_type": "stream",
     "text": [
      "Econometric (Linear regression)\n",
      "Econometric (Random forest)\n",
      "Two Model (Linear regression)\n",
      "Two Model (Random forest)\n",
      "Dummy (Linear regression)\n",
      "Dummy (Random forest)\n",
      "Lai (Logistic Regression)\n",
      "Lai (Random forest)\n",
      "WeightedLai (Logistic regression)\n",
      "WeightedLai (Random forest)\n",
      "Kane (Logistic regression)\n",
      "Kane (Random forest)\n",
      "GeneralizedKane (Logistic regression)\n",
      "GeneralizedKane (Random forest)\n",
      "Reflective (Logistic regression)\n",
      "Reflective (Random forest)\n",
      "Pessimistic (Logistic regression)\n",
      "Pessimistic (Random forest)\n",
      "Jaskowski (Logistic regression)\n",
      "Jaskowski (Random forest)\n",
      "Wall time: 54min 7s\n"
     ]
    }
   ],
   "source": [
    "%%time\n",
    "ex_womens_model_names, ex_womens_model_scores = [], []\n",
    "for model_name in models:\n",
    "    print(model_name)\n",
    "    scores = treatment_cross_val_score(X_ex_womens, y_ex_womens, t_ex_womens, models[model_name], cv, seeds=seeds)\n",
    "    for score in scores:\n",
    "        ex_womens_model_names.append(model_name)\n",
    "        ex_womens_model_scores.append(score)\n",
    "df_ex_womens_stats = pd.DataFrame(data={'Model': ex_womens_model_names, 'Uplift': ex_womens_model_scores})"
   ]
  },
  {
   "cell_type": "code",
   "execution_count": 10,
   "metadata": {},
   "outputs": [
    {
     "data": {
      "text/html": [
       "<div id=\"67ee9467-c94c-4ac4-9aaa-e8c35a0d3ef9\" style=\"height: 525px; width: 100%;\" class=\"plotly-graph-div\"></div><script type=\"text/javascript\">require([\"plotly\"], function(Plotly) { window.PLOTLYENV=window.PLOTLYENV || {};window.PLOTLYENV.BASE_URL=\"https://plot.ly\";\n",
       "if (document.getElementById(\"67ee9467-c94c-4ac4-9aaa-e8c35a0d3ef9\")) {\n",
       "    Plotly.newPlot(\"67ee9467-c94c-4ac4-9aaa-e8c35a0d3ef9\", [{\"boxpoints\": false, \"line\": {\"width\": 1.3}, \"marker\": {\"color\": \"rgba(255, 153, 51, 1.0)\"}, \"name\": \"Dummy (Linear regression)\", \"orientation\": \"v\", \"y\": [null, null, null, null, null, null, null, null, null, null, null, null, null, null, null, null, null, null, null, null, 1.005929614577771, 0.09373280055811439, 0.9023921638048032, 1.6012985942569828, 0.8150194272119062, null, null, null, null, null, null, null, null, null, null, null, null, null, null, null, null, null, null, null, null, null, null, null, null, null, null, null, null, null, null, null, null, null, null, null, null, null, null, null, null, null, null, null, null, null, null, null, null, null, null, null, null, null, null, null, null, null, null, null, null, null, null, null, null, null, null, null, null, null, null, null, null, null, null, null], \"type\": \"box\", \"uid\": \"b94d5ab5-0fe3-4be4-8d2b-bdafe5105512\"}, {\"boxpoints\": false, \"line\": {\"width\": 1.3}, \"marker\": {\"color\": \"rgba(55, 128, 191, 1.0)\"}, \"name\": \"Dummy (Random forest)\", \"orientation\": \"v\", \"y\": [null, null, null, null, null, null, null, null, null, null, null, null, null, null, null, null, null, null, null, null, null, null, null, null, null, 1.2367026166955286, 0.35578835978835976, 0.7012870691754962, 1.7319864935403888, 1.2867966567303757, null, null, null, null, null, null, null, null, null, null, null, null, null, null, null, null, null, null, null, null, null, null, null, null, null, null, null, null, null, null, null, null, null, null, null, null, null, null, null, null, null, null, null, null, null, null, null, null, null, null, null, null, null, null, null, null, null, null, null, null, null, null, null, null, null, null, null, null, null, null], \"type\": \"box\", \"uid\": \"e1f97718-fc64-4ec8-8dcd-d04e9cf857b6\"}, {\"boxpoints\": false, \"line\": {\"width\": 1.3}, \"marker\": {\"color\": \"rgba(50, 171, 96, 1.0)\"}, \"name\": \"Econometric (Linear regression)\", \"orientation\": \"v\", \"y\": [0.8660309379975554, 0.2607035490605427, 0.4070168095219062, 0.8274946695095948, 0.14174093730733728, null, null, null, null, null, null, null, null, null, null, null, null, null, null, null, null, null, null, null, null, null, null, null, null, null, null, null, null, null, null, null, null, null, null, null, null, null, null, null, null, null, null, null, null, null, null, null, null, null, null, null, null, null, null, null, null, null, null, null, null, null, null, null, null, null, null, null, null, null, null, null, null, null, null, null, null, null, null, null, null, null, null, null, null, null, null, null, null, null, null, null, null, null, null, null], \"type\": \"box\", \"uid\": \"0ed671cf-e99f-4934-834c-3b97b0430601\"}, {\"boxpoints\": false, \"line\": {\"width\": 1.3}, \"marker\": {\"color\": \"rgba(128, 0, 128, 1.0)\"}, \"name\": \"Econometric (Random forest)\", \"orientation\": \"v\", \"y\": [null, null, null, null, null, 1.022740845143946, 0.6089046514188317, 0.37497547984703616, 1.6750275090842912, 0.7588164754953075, null, null, null, null, null, null, null, null, null, null, null, null, null, null, null, null, null, null, null, null, null, null, null, null, null, null, null, null, null, null, null, null, null, null, null, null, null, null, null, null, null, null, null, null, null, null, null, null, null, null, null, null, null, null, null, null, null, null, null, null, null, null, null, null, null, null, null, null, null, null, null, null, null, null, null, null, null, null, null, null, null, null, null, null, null, null, null, null, null, null], \"type\": \"box\", \"uid\": \"6cac5905-d651-4702-8357-166b4ab5c0c8\"}, {\"boxpoints\": false, \"line\": {\"width\": 1.3}, \"marker\": {\"color\": \"rgba(219, 64, 82, 1.0)\"}, \"name\": \"GeneralizedKane (Logistic regression)\", \"orientation\": \"v\", \"y\": [null, null, null, null, null, null, null, null, null, null, null, null, null, null, null, null, null, null, null, null, null, null, null, null, null, null, null, null, null, null, null, null, null, null, null, null, null, null, null, null, null, null, null, null, null, null, null, null, null, null, null, null, null, null, null, null, null, null, null, null, 0.9862739263520164, 0.6202373200302935, 0.4343969785044096, 0.23973255810475758, 0.550946708694039, null, null, null, null, null, null, null, null, null, null, null, null, null, null, null, null, null, null, null, null, null, null, null, null, null, null, null, null, null, null, null, null, null, null, null], \"type\": \"box\", \"uid\": \"b1127c97-2e63-466f-9524-7347c1c743d7\"}, {\"boxpoints\": false, \"line\": {\"width\": 1.3}, \"marker\": {\"color\": \"rgba(0, 128, 128, 1.0)\"}, \"name\": \"GeneralizedKane (Random forest)\", \"orientation\": \"v\", \"y\": [null, null, null, null, null, null, null, null, null, null, null, null, null, null, null, null, null, null, null, null, null, null, null, null, null, null, null, null, null, null, null, null, null, null, null, null, null, null, null, null, null, null, null, null, null, null, null, null, null, null, null, null, null, null, null, null, null, null, null, null, null, null, null, null, null, 0.9862739263520164, 0.6202373200302935, 0.4343969785044096, 0.23973255810475758, 0.550946708694039, null, null, null, null, null, null, null, null, null, null, null, null, null, null, null, null, null, null, null, null, null, null, null, null, null, null, null, null, null, null], \"type\": \"box\", \"uid\": \"f171a2cf-87ee-4954-a1d0-f42d065e948f\"}, {\"boxpoints\": false, \"line\": {\"width\": 1.3}, \"marker\": {\"color\": \"rgba(255, 255, 51, 1.0)\"}, \"name\": \"Jaskowski (Logistic regression)\", \"orientation\": \"v\", \"y\": [null, null, null, null, null, null, null, null, null, null, null, null, null, null, null, null, null, null, null, null, null, null, null, null, null, null, null, null, null, null, null, null, null, null, null, null, null, null, null, null, null, null, null, null, null, null, null, null, null, null, null, null, null, null, null, null, null, null, null, null, null, null, null, null, null, null, null, null, null, null, null, null, null, null, null, null, null, null, null, null, null, null, null, null, null, null, null, null, null, null, 0.8642328895563108, 0.7243136717560572, 0.5016904218935916, 1.0557281740608533, 0.7911675664977382, null, null, null, null, null], \"type\": \"box\", \"uid\": \"a3778be6-c6e2-47ad-a416-96170cea5ff7\"}, {\"boxpoints\": false, \"line\": {\"width\": 1.3}, \"marker\": {\"color\": \"rgba(128, 128, 0, 1.0)\"}, \"name\": \"Jaskowski (Random forest)\", \"orientation\": \"v\", \"y\": [null, null, null, null, null, null, null, null, null, null, null, null, null, null, null, null, null, null, null, null, null, null, null, null, null, null, null, null, null, null, null, null, null, null, null, null, null, null, null, null, null, null, null, null, null, null, null, null, null, null, null, null, null, null, null, null, null, null, null, null, null, null, null, null, null, null, null, null, null, null, null, null, null, null, null, null, null, null, null, null, null, null, null, null, null, null, null, null, null, null, null, null, null, null, null, 0.6795075194847664, 0.9281763508414075, 1.3772583532057368, 0.6142236898092576, 1.0707740465714357], \"type\": \"box\", \"uid\": \"fa75e6c4-0d57-4968-aac2-6b1aafd677cb\"}, {\"boxpoints\": false, \"line\": {\"width\": 1.3}, \"marker\": {\"color\": \"rgba(251, 128, 114, 1.0)\"}, \"name\": \"Kane (Logistic regression)\", \"orientation\": \"v\", \"y\": [null, null, null, null, null, null, null, null, null, null, null, null, null, null, null, null, null, null, null, null, null, null, null, null, null, null, null, null, null, null, null, null, null, null, null, null, null, null, null, null, null, null, null, null, null, null, null, null, null, null, 0.8519599298518228, 0.6601415766847881, 0.793636536704234, 0.8030261897943538, 0.7950829986121813, null, null, null, null, null, null, null, null, null, null, null, null, null, null, null, null, null, null, null, null, null, null, null, null, null, null, null, null, null, null, null, null, null, null, null, null, null, null, null, null, null, null, null, null, null], \"type\": \"box\", \"uid\": \"395b5e4b-48b9-490f-a778-55088256f19e\"}, {\"boxpoints\": false, \"line\": {\"width\": 1.3}, \"marker\": {\"color\": \"rgba(128, 177, 211, 1.0)\"}, \"name\": \"Kane (Random forest)\", \"orientation\": \"v\", \"y\": [null, null, null, null, null, null, null, null, null, null, null, null, null, null, null, null, null, null, null, null, null, null, null, null, null, null, null, null, null, null, null, null, null, null, null, null, null, null, null, null, null, null, null, null, null, null, null, null, null, null, null, null, null, null, null, 0.977311909015063, 0.753146139004801, 1.658714850812791, 0.741633018369064, 1.1451944729930341, null, null, null, null, null, null, null, null, null, null, null, null, null, null, null, null, null, null, null, null, null, null, null, null, null, null, null, null, null, null, null, null, null, null, null, null, null, null, null, null], \"type\": \"box\", \"uid\": \"39019a8a-d3e9-4f8b-9c9b-1cbf269471dc\"}, {\"boxpoints\": false, \"line\": {\"width\": 1.3}, \"marker\": {\"color\": \"rgba(128, 177, 211, 0.8999999999999999)\"}, \"name\": \"Lai (Logistic Regression)\", \"orientation\": \"v\", \"y\": [null, null, null, null, null, null, null, null, null, null, null, null, null, null, null, null, null, null, null, null, null, null, null, null, null, null, null, null, null, null, 0.8642328895563108, 0.7243136717560572, 0.5016904218935916, 1.0557281740608533, 0.7911675664977382, null, null, null, null, null, null, null, null, null, null, null, null, null, null, null, null, null, null, null, null, null, null, null, null, null, null, null, null, null, null, null, null, null, null, null, null, null, null, null, null, null, null, null, null, null, null, null, null, null, null, null, null, null, null, null, null, null, null, null, null, null, null, null, null, null], \"type\": \"box\", \"uid\": \"5176c26d-3571-4cd3-ba90-ed5f7d8960c9\"}, {\"boxpoints\": false, \"line\": {\"width\": 1.3}, \"marker\": {\"color\": \"rgba(255, 153, 51, 0.8999999999999999)\"}, \"name\": \"Lai (Random forest)\", \"orientation\": \"v\", \"y\": [null, null, null, null, null, null, null, null, null, null, null, null, null, null, null, null, null, null, null, null, null, null, null, null, null, null, null, null, null, null, null, null, null, null, null, 0.9880245085247044, 0.8850617007266574, 1.387981429882713, 0.3022395071403693, 1.387458875048493, null, null, null, null, null, null, null, null, null, null, null, null, null, null, null, null, null, null, null, null, null, null, null, null, null, null, null, null, null, null, null, null, null, null, null, null, null, null, null, null, null, null, null, null, null, null, null, null, null, null, null, null, null, null, null, null, null, null, null, null], \"type\": \"box\", \"uid\": \"46351841-2a20-43af-a5cb-a93f1b436c32\"}, {\"boxpoints\": false, \"line\": {\"width\": 1.3}, \"marker\": {\"color\": \"rgba(55, 128, 191, 0.8999999999999999)\"}, \"name\": \"Pessimistic (Logistic regression)\", \"orientation\": \"v\", \"y\": [null, null, null, null, null, null, null, null, null, null, null, null, null, null, null, null, null, null, null, null, null, null, null, null, null, null, null, null, null, null, null, null, null, null, null, null, null, null, null, null, null, null, null, null, null, null, null, null, null, null, null, null, null, null, null, null, null, null, null, null, null, null, null, null, null, null, null, null, null, null, null, null, null, null, null, null, null, null, null, null, 0.7171165998583636, 0.7389250343686379, 0.369183751100873, 0.7707945400658018, 0.7556253882889998, null, null, null, null, null, null, null, null, null, null, null, null, null, null, null], \"type\": \"box\", \"uid\": \"e45b8606-ac31-4ebf-ab93-dc05922ae219\"}, {\"boxpoints\": false, \"line\": {\"width\": 1.3}, \"marker\": {\"color\": \"rgba(50, 171, 96, 0.8999999999999999)\"}, \"name\": \"Pessimistic (Random forest)\", \"orientation\": \"v\", \"y\": [null, null, null, null, null, null, null, null, null, null, null, null, null, null, null, null, null, null, null, null, null, null, null, null, null, null, null, null, null, null, null, null, null, null, null, null, null, null, null, null, null, null, null, null, null, null, null, null, null, null, null, null, null, null, null, null, null, null, null, null, null, null, null, null, null, null, null, null, null, null, null, null, null, null, null, null, null, null, null, null, null, null, null, null, null, 0.5068724387913094, 1.001915636860462, 1.672154959019246, 0.6058660555806913, 0.8457000416494034, null, null, null, null, null, null, null, null, null, null], \"type\": \"box\", \"uid\": \"8d48d206-11bc-449b-bac3-75187ad2f67d\"}, {\"boxpoints\": false, \"line\": {\"width\": 1.3}, \"marker\": {\"color\": \"rgba(128, 0, 128, 0.8999999999999999)\"}, \"name\": \"Reflective (Logistic regression)\", \"orientation\": \"v\", \"y\": [null, null, null, null, null, null, null, null, null, null, null, null, null, null, null, null, null, null, null, null, null, null, null, null, null, null, null, null, null, null, null, null, null, null, null, null, null, null, null, null, null, null, null, null, null, null, null, null, null, null, null, null, null, null, null, null, null, null, null, null, null, null, null, null, null, null, null, null, null, null, 0.8165900938019179, 0.6636280177476184, 0.7194834114922424, 1.0577479866294737, 0.8621395483119602, null, null, null, null, null, null, null, null, null, null, null, null, null, null, null, null, null, null, null, null, null, null, null, null, null], \"type\": \"box\", \"uid\": \"399c7ca9-9616-4590-86fe-6998c6899e47\"}, {\"boxpoints\": false, \"line\": {\"width\": 1.3}, \"marker\": {\"color\": \"rgba(219, 64, 82, 0.8999999999999999)\"}, \"name\": \"Reflective (Random forest)\", \"orientation\": \"v\", \"y\": [null, null, null, null, null, null, null, null, null, null, null, null, null, null, null, null, null, null, null, null, null, null, null, null, null, null, null, null, null, null, null, null, null, null, null, null, null, null, null, null, null, null, null, null, null, null, null, null, null, null, null, null, null, null, null, null, null, null, null, null, null, null, null, null, null, null, null, null, null, null, null, null, null, null, null, 0.7891544313927608, 0.9482608466006053, 1.4796863162630849, 0.400537168776922, 0.8087110282562726, null, null, null, null, null, null, null, null, null, null, null, null, null, null, null, null, null, null, null, null], \"type\": \"box\", \"uid\": \"d3013ac0-b10a-40a6-a5a2-2632a04ad404\"}, {\"boxpoints\": false, \"line\": {\"width\": 1.3}, \"marker\": {\"color\": \"rgba(0, 128, 128, 0.8999999999999999)\"}, \"name\": \"Two Model (Linear regression)\", \"orientation\": \"v\", \"y\": [null, null, null, null, null, null, null, null, null, null, 0.8660309379975554, 0.2607035490605427, 0.4070168095219062, 0.8274946695095948, 0.14174093730733728, null, null, null, null, null, null, null, null, null, null, null, null, null, null, null, null, null, null, null, null, null, null, null, null, null, null, null, null, null, null, null, null, null, null, null, null, null, null, null, null, null, null, null, null, null, null, null, null, null, null, null, null, null, null, null, null, null, null, null, null, null, null, null, null, null, null, null, null, null, null, null, null, null, null, null, null, null, null, null, null, null, null, null, null, null], \"type\": \"box\", \"uid\": \"d8625c74-8e98-4d2f-8dff-98509fed3e4b\"}, {\"boxpoints\": false, \"line\": {\"width\": 1.3}, \"marker\": {\"color\": \"rgba(255, 255, 51, 0.8999999999999999)\"}, \"name\": \"Two Model (Random forest)\", \"orientation\": \"v\", \"y\": [null, null, null, null, null, null, null, null, null, null, null, null, null, null, null, 1.2446404625157725, 0.12973683459397756, 0.6460794924263864, 1.6417171633149026, 0.9561613937986941, null, null, null, null, null, null, null, null, null, null, null, null, null, null, null, null, null, null, null, null, null, null, null, null, null, null, null, null, null, null, null, null, null, null, null, null, null, null, null, null, null, null, null, null, null, null, null, null, null, null, null, null, null, null, null, null, null, null, null, null, null, null, null, null, null, null, null, null, null, null, null, null, null, null, null, null, null, null, null, null], \"type\": \"box\", \"uid\": \"b798fecd-fd2a-4371-810a-1cd07d507184\"}, {\"boxpoints\": false, \"line\": {\"width\": 1.3}, \"marker\": {\"color\": \"rgba(128, 128, 0, 0.8999999999999999)\"}, \"name\": \"WeightedLai (Logistic regression)\", \"orientation\": \"v\", \"y\": [null, null, null, null, null, null, null, null, null, null, null, null, null, null, null, null, null, null, null, null, null, null, null, null, null, null, null, null, null, null, null, null, null, null, null, null, null, null, null, null, 0.8642328895563108, 0.7243136717560572, 0.5016904218935916, 1.0557281740608533, 0.7911675664977382, null, null, null, null, null, null, null, null, null, null, null, null, null, null, null, null, null, null, null, null, null, null, null, null, null, null, null, null, null, null, null, null, null, null, null, null, null, null, null, null, null, null, null, null, null, null, null, null, null, null, null, null, null, null, null], \"type\": \"box\", \"uid\": \"4cc5d820-1fb1-426f-97d8-af747f585fff\"}, {\"boxpoints\": false, \"line\": {\"width\": 1.3}, \"marker\": {\"color\": \"rgba(251, 128, 114, 0.8999999999999999)\"}, \"name\": \"WeightedLai (Random forest)\", \"orientation\": \"v\", \"y\": [null, null, null, null, null, null, null, null, null, null, null, null, null, null, null, null, null, null, null, null, null, null, null, null, null, null, null, null, null, null, null, null, null, null, null, null, null, null, null, null, null, null, null, null, null, 0.8346785445416234, 0.4677290939394574, 0.9937544131583705, 0.5897185400932726, 1.0462039444283158, null, null, null, null, null, null, null, null, null, null, null, null, null, null, null, null, null, null, null, null, null, null, null, null, null, null, null, null, null, null, null, null, null, null, null, null, null, null, null, null, null, null, null, null, null, null, null, null, null, null], \"type\": \"box\", \"uid\": \"e98f36ae-400a-4fb7-a0ba-062755ab31ce\"}], {\"legend\": {\"bgcolor\": \"#F5F6F9\", \"font\": {\"color\": \"#4D5663\"}}, \"paper_bgcolor\": \"#F5F6F9\", \"plot_bgcolor\": \"#F5F6F9\", \"title\": {\"text\": \"No E-Mail vs Mens E-Mail\", \"font\": {\"color\": \"#4D5663\"}}, \"xaxis\": {\"gridcolor\": \"#E1E5ED\", \"showgrid\": true, \"tickfont\": {\"color\": \"#4D5663\"}, \"title\": {\"text\": \"\", \"font\": {\"color\": \"#4D5663\"}}, \"zerolinecolor\": \"#E1E5ED\"}, \"yaxis\": {\"gridcolor\": \"#E1E5ED\", \"showgrid\": true, \"tickfont\": {\"color\": \"#4D5663\"}, \"title\": {\"text\": \"Uplift\", \"font\": {\"color\": \"#4D5663\"}}, \"zerolinecolor\": \"#E1E5ED\"}}, {\"showLink\": true, \"linkText\": \"Export to plot.ly\", \"plotlyServerURL\": \"https://plot.ly\"}); \n",
       "}\n",
       "});</script><script type=\"text/javascript\">window.addEventListener(\"resize\", function(){if (document.getElementById(\"67ee9467-c94c-4ac4-9aaa-e8c35a0d3ef9\")) {window._Plotly.Plots.resize(document.getElementById(\"67ee9467-c94c-4ac4-9aaa-e8c35a0d3ef9\"));};})</script>"
      ]
     },
     "metadata": {},
     "output_type": "execute_result"
    }
   ],
   "source": [
    "df_ex_womens_stats.pivot(columns=\"Model\", values=\"Uplift\").iplot(\n",
    "        kind=\"box\",\n",
    "        yTitle=\"Uplift\",\n",
    "        title=\"No E-Mail vs Mens E-Mail\"\n",
    ")"
   ]
  },
  {
   "cell_type": "code",
   "execution_count": null,
   "metadata": {},
   "outputs": [],
   "source": []
  },
  {
   "cell_type": "markdown",
   "metadata": {},
   "source": [
    "## No E-Mail vs Womens E-Mail"
   ]
  },
  {
   "cell_type": "code",
   "execution_count": 9,
   "metadata": {},
   "outputs": [
    {
     "name": "stdout",
     "output_type": "stream",
     "text": [
      "Econometric (Linear regression)\n",
      "Econometric (Random forest)\n",
      "Two Model (Linear regression)\n",
      "Two Model (Random forest)\n",
      "Dummy (Linear regression)\n",
      "Dummy (Random forest)\n",
      "Lai (Logistic Regression)\n",
      "Lai (Random forest)\n",
      "WeightedLai (Logistic regression)\n",
      "WeightedLai (Random forest)\n",
      "Kane (Logistic regression)\n",
      "Kane (Random forest)\n",
      "GeneralizedKane (Logistic regression)\n",
      "GeneralizedKane (Random forest)\n",
      "Reflective (Logistic regression)\n",
      "Reflective (Random forest)\n",
      "Pessimistic (Logistic regression)\n",
      "Pessimistic (Random forest)\n",
      "Jaskowski (Logistic regression)\n",
      "Jaskowski (Random forest)\n",
      "Wall time: 37min 51s\n"
     ]
    }
   ],
   "source": [
    "%%time\n",
    "ex_mens_model_names, ex_mens_model_scores = [], []\n",
    "for model_name in models:\n",
    "    print(model_name)\n",
    "    scores = treatment_cross_val_score(X_ex_mens, y_ex_mens, t_ex_mens, models[model_name], cv, seeds=seeds)\n",
    "    for score in scores:\n",
    "        ex_mens_model_names.append(model_name)\n",
    "        ex_mens_model_scores.append(score)\n",
    "df_ex_womens_stats = pd.DataFrame(data={'Model': ex_mens_model_names, 'Uplift': ex_mens_model_scores})"
   ]
  },
  {
   "cell_type": "code",
   "execution_count": 11,
   "metadata": {},
   "outputs": [
    {
     "data": {
      "text/html": [
       "<div id=\"fe5f0144-1362-44d5-ad2f-42621b02c391\" style=\"height: 525px; width: 100%;\" class=\"plotly-graph-div\"></div><script type=\"text/javascript\">require([\"plotly\"], function(Plotly) { window.PLOTLYENV=window.PLOTLYENV || {};window.PLOTLYENV.BASE_URL=\"https://plot.ly\";\n",
       "if (document.getElementById(\"fe5f0144-1362-44d5-ad2f-42621b02c391\")) {\n",
       "    Plotly.newPlot(\"fe5f0144-1362-44d5-ad2f-42621b02c391\", [{\"boxpoints\": false, \"line\": {\"width\": 1.3}, \"marker\": {\"color\": \"rgba(255, 153, 51, 1.0)\"}, \"name\": \"Dummy (Linear regression)\", \"orientation\": \"v\", \"y\": [null, null, null, null, null, null, null, null, null, null, null, null, null, null, null, null, null, null, null, null, -0.7034270101483217, -0.8255399427530575, -0.9324694249284413, -0.933015873015873, -0.7330809263596149, null, null, null, null, null, null, null, null, null, null, null, null, null, null, null, null, null, null, null, null, null, null, null, null, null, null, null, null, null, null, null, null, null, null, null, null, null, null, null, null, null, null, null, null, null, null, null, null, null, null, null, null, null, null, null, null, null, null, null, null, null, null, null, null, null, null, null, null, null, null, null, null, null, null, null], \"type\": \"box\", \"uid\": \"819d7839-1a22-4e97-a678-d3d4a50a7447\"}, {\"boxpoints\": false, \"line\": {\"width\": 1.3}, \"marker\": {\"color\": \"rgba(55, 128, 191, 1.0)\"}, \"name\": \"Dummy (Random forest)\", \"orientation\": \"v\", \"y\": [null, null, null, null, null, null, null, null, null, null, null, null, null, null, null, null, null, null, null, null, null, null, null, null, null, -0.5604787926099402, -0.7821727816809784, -0.7772937809003383, -0.617343221441582, -0.6424043715846994, null, null, null, null, null, null, null, null, null, null, null, null, null, null, null, null, null, null, null, null, null, null, null, null, null, null, null, null, null, null, null, null, null, null, null, null, null, null, null, null, null, null, null, null, null, null, null, null, null, null, null, null, null, null, null, null, null, null, null, null, null, null, null, null, null, null, null, null, null, null], \"type\": \"box\", \"uid\": \"dc8ca16e-25d5-49e3-bea2-91c1dd7ec534\"}, {\"boxpoints\": false, \"line\": {\"width\": 1.3}, \"marker\": {\"color\": \"rgba(50, 171, 96, 1.0)\"}, \"name\": \"Econometric (Linear regression)\", \"orientation\": \"v\", \"y\": [-0.9327010148321624, -1.0943741868332033, -1.0519698152485037, -1.0080926359614883, -0.6517408274785323, null, null, null, null, null, null, null, null, null, null, null, null, null, null, null, null, null, null, null, null, null, null, null, null, null, null, null, null, null, null, null, null, null, null, null, null, null, null, null, null, null, null, null, null, null, null, null, null, null, null, null, null, null, null, null, null, null, null, null, null, null, null, null, null, null, null, null, null, null, null, null, null, null, null, null, null, null, null, null, null, null, null, null, null, null, null, null, null, null, null, null, null, null, null, null], \"type\": \"box\", \"uid\": \"6450a3cf-0fa5-4fe7-8b7e-3ef068d45e71\"}, {\"boxpoints\": false, \"line\": {\"width\": 1.3}, \"marker\": {\"color\": \"rgba(128, 0, 128, 1.0)\"}, \"name\": \"Econometric (Random forest)\", \"orientation\": \"v\", \"y\": [null, null, null, null, null, -0.6554020296643247, -0.8192583918813428, -1.2472105126203488, -0.8714597970335676, -0.6884491282851939, null, null, null, null, null, null, null, null, null, null, null, null, null, null, null, null, null, null, null, null, null, null, null, null, null, null, null, null, null, null, null, null, null, null, null, null, null, null, null, null, null, null, null, null, null, null, null, null, null, null, null, null, null, null, null, null, null, null, null, null, null, null, null, null, null, null, null, null, null, null, null, null, null, null, null, null, null, null, null, null, null, null, null, null, null, null, null, null, null, null], \"type\": \"box\", \"uid\": \"5bae05b2-e2d7-434a-a08c-c6dc8582b048\"}, {\"boxpoints\": false, \"line\": {\"width\": 1.3}, \"marker\": {\"color\": \"rgba(219, 64, 82, 1.0)\"}, \"name\": \"GeneralizedKane (Logistic regression)\", \"orientation\": \"v\", \"y\": [null, null, null, null, null, null, null, null, null, null, null, null, null, null, null, null, null, null, null, null, null, null, null, null, null, null, null, null, null, null, null, null, null, null, null, null, null, null, null, null, null, null, null, null, null, null, null, null, null, null, null, null, null, null, null, null, null, null, null, null, -0.7048581837106427, -0.7854488680718189, -0.8591933385376008, -1.049622690606297, -0.8327374447046578, null, null, null, null, null, null, null, null, null, null, null, null, null, null, null, null, null, null, null, null, null, null, null, null, null, null, null, null, null, null, null, null, null, null, null], \"type\": \"box\", \"uid\": \"6e2d8725-7e23-45ad-96da-422236e886d2\"}, {\"boxpoints\": false, \"line\": {\"width\": 1.3}, \"marker\": {\"color\": \"rgba(0, 128, 128, 1.0)\"}, \"name\": \"GeneralizedKane (Random forest)\", \"orientation\": \"v\", \"y\": [null, null, null, null, null, null, null, null, null, null, null, null, null, null, null, null, null, null, null, null, null, null, null, null, null, null, null, null, null, null, null, null, null, null, null, null, null, null, null, null, null, null, null, null, null, null, null, null, null, null, null, null, null, null, null, null, null, null, null, null, null, null, null, null, null, -0.7048581837106427, -0.7854488680718189, -0.8591933385376008, -1.049622690606297, -0.8327374447046578, null, null, null, null, null, null, null, null, null, null, null, null, null, null, null, null, null, null, null, null, null, null, null, null, null, null, null, null, null, null], \"type\": \"box\", \"uid\": \"3aa8c4ed-3a15-4243-9dfd-d5c556822321\"}, {\"boxpoints\": false, \"line\": {\"width\": 1.3}, \"marker\": {\"color\": \"rgba(255, 255, 51, 1.0)\"}, \"name\": \"Jaskowski (Logistic regression)\", \"orientation\": \"v\", \"y\": [null, null, null, null, null, null, null, null, null, null, null, null, null, null, null, null, null, null, null, null, null, null, null, null, null, null, null, null, null, null, null, null, null, null, null, null, null, null, null, null, null, null, null, null, null, null, null, null, null, null, null, null, null, null, null, null, null, null, null, null, null, null, null, null, null, null, null, null, null, null, null, null, null, null, null, null, null, null, null, null, null, null, null, null, null, null, null, null, null, null, -0.6753447827218318, -0.8893234452250846, -0.9331147540983606, -1.3283372365339579, -0.5647462919594067, null, null, null, null, null], \"type\": \"box\", \"uid\": \"b9e833b1-6cd1-4ae8-bc0e-746dc6dc46cc\"}, {\"boxpoints\": false, \"line\": {\"width\": 1.3}, \"marker\": {\"color\": \"rgba(128, 128, 0, 1.0)\"}, \"name\": \"Jaskowski (Random forest)\", \"orientation\": \"v\", \"y\": [null, null, null, null, null, null, null, null, null, null, null, null, null, null, null, null, null, null, null, null, null, null, null, null, null, null, null, null, null, null, null, null, null, null, null, null, null, null, null, null, null, null, null, null, null, null, null, null, null, null, null, null, null, null, null, null, null, null, null, null, null, null, null, null, null, null, null, null, null, null, null, null, null, null, null, null, null, null, null, null, null, null, null, null, null, null, null, null, null, null, null, null, null, null, null, -1.2472547488940933, -1.038951340098881, -1.0750923757481134, -0.8991881342701015, -1.0517226125422847], \"type\": \"box\", \"uid\": \"5f0212cc-df5c-462a-848d-65b6223732a9\"}, {\"boxpoints\": false, \"line\": {\"width\": 1.3}, \"marker\": {\"color\": \"rgba(251, 128, 114, 1.0)\"}, \"name\": \"Kane (Logistic regression)\", \"orientation\": \"v\", \"y\": [null, null, null, null, null, null, null, null, null, null, null, null, null, null, null, null, null, null, null, null, null, null, null, null, null, null, null, null, null, null, null, null, null, null, null, null, null, null, null, null, null, null, null, null, null, null, null, null, null, null, -0.6753447827218318, -0.8532344522508457, -1.06296122820713, -1.231527452511059, -0.5569424928441322, null, null, null, null, null, null, null, null, null, null, null, null, null, null, null, null, null, null, null, null, null, null, null, null, null, null, null, null, null, null, null, null, null, null, null, null, null, null, null, null, null, null, null, null, null], \"type\": \"box\", \"uid\": \"ad75b988-e6d9-4d86-bb48-a2c869d9bc77\"}, {\"boxpoints\": false, \"line\": {\"width\": 1.3}, \"marker\": {\"color\": \"rgba(128, 177, 211, 1.0)\"}, \"name\": \"Kane (Random forest)\", \"orientation\": \"v\", \"y\": [null, null, null, null, null, null, null, null, null, null, null, null, null, null, null, null, null, null, null, null, null, null, null, null, null, null, null, null, null, null, null, null, null, null, null, null, null, null, null, null, null, null, null, null, null, null, null, null, null, null, null, null, null, null, null, -0.842144158209732, -0.8718371064272704, -1.0438511579495187, -1.1000442362737444, -1.0924850377309394, null, null, null, null, null, null, null, null, null, null, null, null, null, null, null, null, null, null, null, null, null, null, null, null, null, null, null, null, null, null, null, null, null, null, null, null, null, null, null, null], \"type\": \"box\", \"uid\": \"291d94a0-b59f-4a60-8cd7-3f60a42e808b\"}, {\"boxpoints\": false, \"line\": {\"width\": 1.3}, \"marker\": {\"color\": \"rgba(128, 177, 211, 0.8999999999999999)\"}, \"name\": \"Lai (Logistic Regression)\", \"orientation\": \"v\", \"y\": [null, null, null, null, null, null, null, null, null, null, null, null, null, null, null, null, null, null, null, null, null, null, null, null, null, null, null, null, null, null, -0.6753447827218318, -0.8893234452250846, -0.9331147540983606, -1.3283372365339579, -0.5647462919594067, null, null, null, null, null, null, null, null, null, null, null, null, null, null, null, null, null, null, null, null, null, null, null, null, null, null, null, null, null, null, null, null, null, null, null, null, null, null, null, null, null, null, null, null, null, null, null, null, null, null, null, null, null, null, null, null, null, null, null, null, null, null, null, null, null], \"type\": \"box\", \"uid\": \"ccde206e-b46d-4518-9798-5762938e8fef\"}, {\"boxpoints\": false, \"line\": {\"width\": 1.3}, \"marker\": {\"color\": \"rgba(255, 153, 51, 0.8999999999999999)\"}, \"name\": \"Lai (Random forest)\", \"orientation\": \"v\", \"y\": [null, null, null, null, null, null, null, null, null, null, null, null, null, null, null, null, null, null, null, null, null, null, null, null, null, null, null, null, null, null, null, null, null, null, null, -1.1315977101223003, -0.9418891491022638, -1.0476294561540462, -1.0086104605776738, -1.0972131147540984, null, null, null, null, null, null, null, null, null, null, null, null, null, null, null, null, null, null, null, null, null, null, null, null, null, null, null, null, null, null, null, null, null, null, null, null, null, null, null, null, null, null, null, null, null, null, null, null, null, null, null, null, null, null, null, null, null, null, null, null], \"type\": \"box\", \"uid\": \"516d1aaf-d4d3-44a0-80e9-0de7f1804215\"}, {\"boxpoints\": false, \"line\": {\"width\": 1.3}, \"marker\": {\"color\": \"rgba(55, 128, 191, 0.8999999999999999)\"}, \"name\": \"Pessimistic (Logistic regression)\", \"orientation\": \"v\", \"y\": [null, null, null, null, null, null, null, null, null, null, null, null, null, null, null, null, null, null, null, null, null, null, null, null, null, null, null, null, null, null, null, null, null, null, null, null, null, null, null, null, null, null, null, null, null, null, null, null, null, null, null, null, null, null, null, null, null, null, null, null, null, null, null, null, null, null, null, null, null, null, null, null, null, null, null, null, null, null, null, null, -0.8448711943793911, -0.8049648711943794, -0.9078272183190216, -0.8625891230809264, -0.6374733281290659, null, null, null, null, null, null, null, null, null, null, null, null, null, null, null], \"type\": \"box\", \"uid\": \"cc9a973b-fb61-4b64-af40-65427c6f8c70\"}, {\"boxpoints\": false, \"line\": {\"width\": 1.3}, \"marker\": {\"color\": \"rgba(50, 171, 96, 0.8999999999999999)\"}, \"name\": \"Pessimistic (Random forest)\", \"orientation\": \"v\", \"y\": [null, null, null, null, null, null, null, null, null, null, null, null, null, null, null, null, null, null, null, null, null, null, null, null, null, null, null, null, null, null, null, null, null, null, null, null, null, null, null, null, null, null, null, null, null, null, null, null, null, null, null, null, null, null, null, null, null, null, null, null, null, null, null, null, null, null, null, null, null, null, null, null, null, null, null, null, null, null, null, null, null, null, null, null, null, -1.0779417122040074, -0.8887483736664065, -1.013471246422066, -1.0253473848555816, -1.3215326567785584, null, null, null, null, null, null, null, null, null, null], \"type\": \"box\", \"uid\": \"8029699b-8b99-4084-81fa-dff68a68e03e\"}, {\"boxpoints\": false, \"line\": {\"width\": 1.3}, \"marker\": {\"color\": \"rgba(128, 0, 128, 0.8999999999999999)\"}, \"name\": \"Reflective (Logistic regression)\", \"orientation\": \"v\", \"y\": [null, null, null, null, null, null, null, null, null, null, null, null, null, null, null, null, null, null, null, null, null, null, null, null, null, null, null, null, null, null, null, null, null, null, null, null, null, null, null, null, null, null, null, null, null, null, null, null, null, null, null, null, null, null, null, null, null, null, null, null, null, null, null, null, null, null, null, null, null, null, -0.8235727296383034, -0.7642206609419724, -0.9651548269581056, -0.9007233931824096, -0.6296695290137914, null, null, null, null, null, null, null, null, null, null, null, null, null, null, null, null, null, null, null, null, null, null, null, null, null], \"type\": \"box\", \"uid\": \"2afc6a02-1c18-4d26-8096-2a8c2c22fdb6\"}, {\"boxpoints\": false, \"line\": {\"width\": 1.3}, \"marker\": {\"color\": \"rgba(219, 64, 82, 0.8999999999999999)\"}, \"name\": \"Reflective (Random forest)\", \"orientation\": \"v\", \"y\": [null, null, null, null, null, null, null, null, null, null, null, null, null, null, null, null, null, null, null, null, null, null, null, null, null, null, null, null, null, null, null, null, null, null, null, null, null, null, null, null, null, null, null, null, null, null, null, null, null, null, null, null, null, null, null, null, null, null, null, null, null, null, null, null, null, null, null, null, null, null, null, null, null, null, null, -0.958823835545147, -1.1445563361956805, -1.0827738745771534, -0.9829065833983867, -1.0926932084309133, null, null, null, null, null, null, null, null, null, null, null, null, null, null, null, null, null, null, null, null], \"type\": \"box\", \"uid\": \"1ea747c9-e86c-45ce-a23b-9c0984f56d55\"}, {\"boxpoints\": false, \"line\": {\"width\": 1.3}, \"marker\": {\"color\": \"rgba(0, 128, 128, 0.8999999999999999)\"}, \"name\": \"Two Model (Linear regression)\", \"orientation\": \"v\", \"y\": [null, null, null, null, null, null, null, null, null, null, -0.9327010148321624, -1.0943741868332033, -1.0519698152485037, -1.0080926359614883, -0.6517408274785323, null, null, null, null, null, null, null, null, null, null, null, null, null, null, null, null, null, null, null, null, null, null, null, null, null, null, null, null, null, null, null, null, null, null, null, null, null, null, null, null, null, null, null, null, null, null, null, null, null, null, null, null, null, null, null, null, null, null, null, null, null, null, null, null, null, null, null, null, null, null, null, null, null, null, null, null, null, null, null, null, null, null, null, null, null], \"type\": \"box\", \"uid\": \"7c08b708-51c8-41b3-8d10-c4ee88412cde\"}, {\"boxpoints\": false, \"line\": {\"width\": 1.3}, \"marker\": {\"color\": \"rgba(255, 255, 51, 0.8999999999999999)\"}, \"name\": \"Two Model (Random forest)\", \"orientation\": \"v\", \"y\": [null, null, null, null, null, null, null, null, null, null, null, null, null, null, null, -0.6552589123080926, -0.8972781680978402, -0.8128753577933906, -0.9204944054124382, -0.6735649232370544, null, null, null, null, null, null, null, null, null, null, null, null, null, null, null, null, null, null, null, null, null, null, null, null, null, null, null, null, null, null, null, null, null, null, null, null, null, null, null, null, null, null, null, null, null, null, null, null, null, null, null, null, null, null, null, null, null, null, null, null, null, null, null, null, null, null, null, null, null, null, null, null, null, null, null, null, null, null, null, null], \"type\": \"box\", \"uid\": \"a0b90602-9db0-4e41-9e4a-f323942f6089\"}, {\"boxpoints\": false, \"line\": {\"width\": 1.3}, \"marker\": {\"color\": \"rgba(128, 128, 0, 0.8999999999999999)\"}, \"name\": \"WeightedLai (Logistic regression)\", \"orientation\": \"v\", \"y\": [null, null, null, null, null, null, null, null, null, null, null, null, null, null, null, null, null, null, null, null, null, null, null, null, null, null, null, null, null, null, null, null, null, null, null, null, null, null, null, null, -0.6753447827218318, -0.8893234452250846, -0.9331147540983606, -1.3283372365339579, -0.5647462919594067, null, null, null, null, null, null, null, null, null, null, null, null, null, null, null, null, null, null, null, null, null, null, null, null, null, null, null, null, null, null, null, null, null, null, null, null, null, null, null, null, null, null, null, null, null, null, null, null, null, null, null, null, null, null, null], \"type\": \"box\", \"uid\": \"a8187ed7-c229-489c-88e7-b8321d268f9a\"}, {\"boxpoints\": false, \"line\": {\"width\": 1.3}, \"marker\": {\"color\": \"rgba(251, 128, 114, 0.8999999999999999)\"}, \"name\": \"WeightedLai (Random forest)\", \"orientation\": \"v\", \"y\": [null, null, null, null, null, null, null, null, null, null, null, null, null, null, null, null, null, null, null, null, null, null, null, null, null, null, null, null, null, null, null, null, null, null, null, null, null, null, null, null, null, null, null, null, null, -1.2161644548529795, -1.0134218058808222, -0.9721493624772314, -1.0034009888108248, -1.2560291438979962, null, null, null, null, null, null, null, null, null, null, null, null, null, null, null, null, null, null, null, null, null, null, null, null, null, null, null, null, null, null, null, null, null, null, null, null, null, null, null, null, null, null, null, null, null, null, null, null, null, null], \"type\": \"box\", \"uid\": \"aa985e61-2b16-41b7-9fc4-8ce1c2557858\"}], {\"legend\": {\"bgcolor\": \"#F5F6F9\", \"font\": {\"color\": \"#4D5663\"}}, \"paper_bgcolor\": \"#F5F6F9\", \"plot_bgcolor\": \"#F5F6F9\", \"title\": {\"text\": \"No E-Mail vs Womens E-Mail\", \"font\": {\"color\": \"#4D5663\"}}, \"xaxis\": {\"gridcolor\": \"#E1E5ED\", \"showgrid\": true, \"tickfont\": {\"color\": \"#4D5663\"}, \"title\": {\"text\": \"\", \"font\": {\"color\": \"#4D5663\"}}, \"zerolinecolor\": \"#E1E5ED\"}, \"yaxis\": {\"gridcolor\": \"#E1E5ED\", \"showgrid\": true, \"tickfont\": {\"color\": \"#4D5663\"}, \"title\": {\"text\": \"Uplift\", \"font\": {\"color\": \"#4D5663\"}}, \"zerolinecolor\": \"#E1E5ED\"}}, {\"showLink\": true, \"linkText\": \"Export to plot.ly\", \"plotlyServerURL\": \"https://plot.ly\"}); \n",
       "}\n",
       "});</script><script type=\"text/javascript\">window.addEventListener(\"resize\", function(){if (document.getElementById(\"fe5f0144-1362-44d5-ad2f-42621b02c391\")) {window._Plotly.Plots.resize(document.getElementById(\"fe5f0144-1362-44d5-ad2f-42621b02c391\"));};})</script>"
      ]
     },
     "metadata": {},
     "output_type": "execute_result"
    }
   ],
   "source": [
    "df_ex_womens_stats.pivot(columns=\"Model\", values=\"Uplift\").iplot(\n",
    "        kind=\"box\",\n",
    "        yTitle=\"Uplift\",\n",
    "        title=\"No E-Mail vs Womens E-Mail\"\n",
    ")"
   ]
  },
  {
   "cell_type": "code",
   "execution_count": null,
   "metadata": {},
   "outputs": [],
   "source": []
  }
 ],
 "metadata": {
  "kernelspec": {
   "display_name": "Python 3",
   "language": "python",
   "name": "python3"
  },
  "language_info": {
   "codemirror_mode": {
    "name": "ipython",
    "version": 3
   },
   "file_extension": ".py",
   "mimetype": "text/x-python",
   "name": "python",
   "nbconvert_exporter": "python",
   "pygments_lexer": "ipython3",
   "version": "3.6.4"
  }
 },
 "nbformat": 4,
 "nbformat_minor": 2
}
